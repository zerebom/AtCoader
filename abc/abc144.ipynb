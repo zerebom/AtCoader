{
 "cells": [
  {
   "cell_type": "markdown",
   "metadata": {},
   "source": [
    "### AtCoder Beginner Contest 144"
   ]
  },
  {
   "cell_type": "markdown",
   "metadata": {},
   "source": [
    "### A"
   ]
  },
  {
   "cell_type": "code",
   "execution_count": 5,
   "metadata": {},
   "outputs": [
    {
     "name": "stdin",
     "output_type": "stream",
     "text": [
      " 4 6\n"
     ]
    },
    {
     "name": "stdout",
     "output_type": "stream",
     "text": [
      "24\n"
     ]
    }
   ],
   "source": [
    "lines=input().split()\n",
    "a=int(lines[0])\n",
    "b=int(lines[1])\n",
    "if a>9 or b>9:\n",
    "    print(-1)\n",
    "else:\n",
    "    print(a*b)"
   ]
  },
  {
   "cell_type": "markdown",
   "metadata": {},
   "source": [
    "### B"
   ]
  },
  {
   "cell_type": "code",
   "execution_count": 10,
   "metadata": {},
   "outputs": [
    {
     "name": "stdin",
     "output_type": "stream",
     "text": [
      " 44\n"
     ]
    },
    {
     "name": "stdout",
     "output_type": "stream",
     "text": [
      "No\n"
     ]
    }
   ],
   "source": [
    "num=int(input())\n",
    "if num>81:\n",
    "    print('No')\n",
    "else:\n",
    "    num_list=[]\n",
    "    \n",
    "    for a in range(1,10):\n",
    "        for b in range(1,10):\n",
    "            num_list.append(a*b)\n",
    "    num_list=set(num_list)\n",
    "    if num in num_list:\n",
    "        print('Yes')\n",
    "    else:\n",
    "        print('No')\n"
   ]
  },
  {
   "cell_type": "markdown",
   "metadata": {},
   "source": [
    "### C"
   ]
  },
  {
   "cell_type": "code",
   "execution_count": 36,
   "metadata": {},
   "outputs": [
    {
     "name": "stdin",
     "output_type": "stream",
     "text": [
      " 50\n"
     ]
    },
    {
     "name": "stdout",
     "output_type": "stream",
     "text": [
      "13\n"
     ]
    }
   ],
   "source": [
    "import numpy as np\n",
    "num=int(input())\n",
    "def prime_factorize(n):\n",
    "    a = []\n",
    "    while n % 2 == 0:\n",
    "        a.append(2)\n",
    "        n //= 2\n",
    "    f = 3\n",
    "    while f * f <= n:\n",
    "        if n % f == 0:\n",
    "            a.append(f)\n",
    "            n //= f\n",
    "        else:\n",
    "            f += 2\n",
    "    if n != 1:\n",
    "        a.append(n)\n",
    "    return a\n",
    "\n",
    "fact_arr=np.array(prime_factorize(num))\n",
    "def GetDoubleFact(arr):\n",
    "    _min=np.min(arr)\n",
    "    arr=np.delete(arr,arr.argmin())\n",
    "    sec_min=np.min(arr)\n",
    "    arr=np.delete(arr,arr.argmin())\n",
    "    arr=np.append(arr,_min*sec_min)\n",
    "    return arr\n",
    "if len(fact_arr)==1:\n",
    "    print(fact_arr[0]-1)\n",
    "else:\n",
    "    while len(fact_arr)>2:\n",
    "        fact_arr=GetDoubleFact(fact_arr)\n",
    "    print(fact_arr[0]+fact_arr[1]-2)"
   ]
  },
  {
   "cell_type": "markdown",
   "metadata": {},
   "source": [
    "### C(正解)\n",
    "ルートをとって、その値までfor文を回す。  \n",
    "割り切れたらその数字で割ってfin"
   ]
  },
  {
   "cell_type": "code",
   "execution_count": 37,
   "metadata": {},
   "outputs": [
    {
     "name": "stdin",
     "output_type": "stream",
     "text": [
      " 78\n"
     ]
    },
    {
     "name": "stdout",
     "output_type": "stream",
     "text": [
      "17\n"
     ]
    }
   ],
   "source": [
    "import math\n",
    "n = int(input())\n",
    "n_s = int(math.sqrt(n))\n",
    "for i in range(1, n_s+1):\n",
    "    if n % i == 0:\n",
    "        a = i\n",
    "        b = n / i\n",
    "        \n",
    "print(int(a + b - 2))"
   ]
  },
  {
   "cell_type": "code",
   "execution_count": null,
   "metadata": {},
   "outputs": [],
   "source": []
  }
 ],
 "metadata": {
  "kernelspec": {
   "display_name": "Python 3",
   "language": "python",
   "name": "python3"
  },
  "language_info": {
   "codemirror_mode": {
    "name": "ipython",
    "version": 3
   },
   "file_extension": ".py",
   "mimetype": "text/x-python",
   "name": "python",
   "nbconvert_exporter": "python",
   "pygments_lexer": "ipython3",
   "version": "3.7.4"
  }
 },
 "nbformat": 4,
 "nbformat_minor": 4
}
