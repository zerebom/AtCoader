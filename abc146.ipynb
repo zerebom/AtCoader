{
 "cells": [
  {
   "cell_type": "markdown",
   "metadata": {},
   "source": [
    "### AtCoder Beginner Contest 146"
   ]
  },
  {
   "cell_type": "markdown",
   "metadata": {},
   "source": [
    "#### A - Can't Wait for Holiday"
   ]
  },
  {
   "cell_type": "code",
   "execution_count": 7,
   "metadata": {},
   "outputs": [
    {
     "name": "stdin",
     "output_type": "stream",
     "text": [
      " THU\n"
     ]
    },
    {
     "name": "stdout",
     "output_type": "stream",
     "text": [
      "3\n"
     ]
    }
   ],
   "source": [
    "day=input()\n",
    "week=['SUN','MON','TUE','WED','THU','FRI','SAT']\n",
    "num=7-week.index(day)\n",
    "\n",
    "print(num)\n",
    "\\"
   ]
  },
  {
   "cell_type": "markdown",
   "metadata": {},
   "source": [
    "### B - ROT N"
   ]
  },
  {
   "cell_type": "code",
   "execution_count": 36,
   "metadata": {
    "collapsed": true,
    "jupyter": {
     "outputs_hidden": true
    }
   },
   "outputs": [
    {
     "name": "stdin",
     "output_type": "stream",
     "text": [
      " 13\n",
      " ABCDEFGHIJKLMNOPQRSTUVWXYZ\n"
     ]
    },
    {
     "name": "stdout",
     "output_type": "stream",
     "text": [
      "['A', 'B', 'C', 'D', 'E', 'F', 'G', 'H', 'I', 'J', 'K', 'L', 'M', 'N', 'O', 'P', 'Q', 'R', 'S', 'T', 'U', 'V', 'W', 'X', 'Y', 'Z']\n",
      "13\n",
      "14\n",
      "15\n",
      "16\n",
      "17\n",
      "18\n",
      "19\n",
      "20\n",
      "21\n",
      "22\n",
      "23\n",
      "24\n",
      "25\n",
      "0\n",
      "1\n",
      "2\n",
      "3\n",
      "4\n",
      "5\n",
      "6\n",
      "7\n",
      "8\n",
      "9\n",
      "10\n",
      "11\n",
      "12\n",
      "NOPQRSTUVWXYZABCDEFGHIJKLM\n"
     ]
    }
   ],
   "source": [
    "\n",
    "strs='A B C D E F G H I J K L M N O P Q R S T U V W X Y Z'.split(' ')\n",
    "num=int(input())\n",
    "alphas=list(input())\n",
    "new_alphas=[]\n",
    "new_num=0\n",
    "for a in alphas:\n",
    "    new_num=(num+strs.index(a))%26 \n",
    "    new_alphas.append(strs[new_num])\n",
    "print(''.join(new_alphas))\n"
   ]
  },
  {
   "cell_type": "code",
   "execution_count": 32,
   "metadata": {},
   "outputs": [
    {
     "name": "stdin",
     "output_type": "stream",
     "text": [
      " 1234 56789 314159265\n"
     ]
    },
    {
     "name": "stdout",
     "output_type": "stream",
     "text": [
      "254309\n"
     ]
    }
   ],
   "source": [
    "lines=input().split()\n",
    "A=int(lines[0])\n",
    "B=int(lines[1])\n",
    "X=int(lines[2])\n",
    "\n",
    "ny=X//A\n",
    "k=len(str(ny))\n",
    "nAns=(ny*A)+(B*k)\n",
    "diff=(X-nAns)//A\n",
    "ans=ny+diff\n",
    "    \n",
    "ans = ans if ans<1000000000 else 1000000000\n",
    "ans=ans if ans>0 else 0\n",
    "\n",
    "if k!=len(str(ans)):\n",
    "    k=len(str(ans))\n",
    "    ans+=((X-((ans*A)+(k*B)))//A)\n",
    "print(ans)"
   ]
  },
  {
   "cell_type": "code",
   "execution_count": null,
   "metadata": {},
   "outputs": [],
   "source": []
  }
 ],
 "metadata": {
  "kernelspec": {
   "display_name": "Python 3",
   "language": "python",
   "name": "python3"
  },
  "language_info": {
   "codemirror_mode": {
    "name": "ipython",
    "version": 3
   },
   "file_extension": ".py",
   "mimetype": "text/x-python",
   "name": "python",
   "nbconvert_exporter": "python",
   "pygments_lexer": "ipython3",
   "version": "3.7.4"
  }
 },
 "nbformat": 4,
 "nbformat_minor": 4
}
