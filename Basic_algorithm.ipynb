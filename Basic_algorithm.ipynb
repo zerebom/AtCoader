{
 "cells": [
  {
   "cell_type": "code",
   "execution_count": 3,
   "metadata": {},
   "outputs": [],
   "source": [
    "import numpy as np"
   ]
  },
  {
   "cell_type": "markdown",
   "metadata": {},
   "source": [
    "## 標準入出力\n",
    "https://qiita.com/kyuna/items/8ee8916c2f4e36321a1c"
   ]
  },
  {
   "cell_type": "code",
   "execution_count": null,
   "metadata": {},
   "outputs": [],
   "source": [
    "n=int(input())  #数値入力 「N」だけの入力のとき\n",
    "a,b=map(int, input().split())  #複数数値入力　「A B」みたいなスペース空いた入力のとき\n",
    "c=list(map(int, input().split()))  #リスト入力 「a1 a2 a3 ...」みたいな配列のような入力のとき\n",
    "s=[list(map(int,list(input()))) for i in range(h)]  # 二次元配列入力　二次元マップみたいな入力のとき\n",
    "print(*c)  #リスト出力\n",
    "for i in [['#','.','#'],['#','#','#']]:print(*i, sep='') #二次元リストで間を詰めたもの\n",
    "#.#\n",
    "\n",
    "for i in range(N):\n",
    "    "
   ]
  },
  {
   "cell_type": "code",
   "execution_count": null,
   "metadata": {},
   "outputs": [],
   "source": [
    "#複数行のとき\n",
    "N = int(input())\n",
    "A = list(map(int, input().split())) \n",
    "B = list(map(int, input().split())) \n",
    "C = list(map(int, input().split())) "
   ]
  },
  {
   "cell_type": "markdown",
   "metadata": {},
   "source": [
    "# ソート\n",
    "\bhttps://qiita.com/suecharo/items/30f5d817da4c948c3be6\n",
    "\n",
    "名称\t平均計算時間\t最悪計算時間\tメモリ使用量\t安定性\n",
    "バブルソート\tO(n2)O(n2)\tO(n2)O(n2)\tO(1)O(1)\t安定\n",
    "選択ソート\tO(n2)O(n2)\tO(n2)O(n2)\tO(1)O(1)\t安定ではない\n",
    "挿入ソート\tO(n2)O(n2)\tO(n2)O(n2)\tO(1)O(1)\t安定\n",
    "マージソート\tO(nlogn)O(nlog⁡n)\tO(nlogn)O(nlog⁡n)\tO(n)O(n)\t安定\n",
    "クイックソート\tO(nlogn)O(nlog⁡n)\tO(n2)O(n2)\tO(logn)O(log⁡n)\t安定ではない\n",
    "カウントソート\tO(nk)O(nk)\tO(n2k)O(n2k)\tO(nk)O(nk)\t安定ではない"
   ]
  },
  {
   "cell_type": "markdown",
   "metadata": {},
   "source": [
    "## バブルソート n^2\n",
    "横同士の大小を比較し、必要なくなるまで交換する  \n",
    "左から順番に左右を比較する。左>右なら交換する  \n",
    "https://wa3.i-3-i.info/word14886.html"
   ]
  },
  {
   "cell_type": "code",
   "execution_count": 9,
   "metadata": {},
   "outputs": [
    {
     "data": {
      "text/plain": [
       "array([18, 24, 48, 69, 92, 92])"
      ]
     },
     "execution_count": 9,
     "metadata": {},
     "output_type": "execute_result"
    }
   ],
   "source": [
    "arr=np.random.randint(1,100,size=6)\n",
    "def bubble_sort(arr):\n",
    "    change=True\n",
    "    while change:\n",
    "        change=False\n",
    "        for i in range(len(arr)-1):\n",
    "            if arr[i]>arr[i+1]:\n",
    "                arr[i],arr[i+1]=arr[i+1],arr[i]\n",
    "                change=True\n",
    "    return arr\n",
    "bubble_sort(arr)"
   ]
  },
  {
   "cell_type": "markdown",
   "metadata": {},
   "source": [
    "###"
   ]
  },
  {
   "cell_type": "markdown",
   "metadata": {},
   "source": [
    "## 選択ソート  \n",
    "配列中の最小か最大を端に移動させていく。  \n",
    "左端をとりあえずの最小と仮定してそれより小さい値を右側から探す。    \n",
    "終わったら一個右にずらす.  \n",
    "移動が一回なので、バブルソートより若干早い  \n",
    "http://sevendays-study.com/algorithm/day5.html"
   ]
  },
  {
   "cell_type": "code",
   "execution_count": 12,
   "metadata": {},
   "outputs": [
    {
     "data": {
      "text/plain": [
       "69"
      ]
     },
     "execution_count": 12,
     "metadata": {},
     "output_type": "execute_result"
    }
   ],
   "source": [
    "#arr.__getitem__(3)==arr[3]"
   ]
  },
  {
   "cell_type": "code",
   "execution_count": 13,
   "metadata": {},
   "outputs": [
    {
     "data": {
      "text/plain": [
       "array([18, 24, 48, 69, 92, 92])"
      ]
     },
     "execution_count": 13,
     "metadata": {},
     "output_type": "execute_result"
    }
   ],
   "source": [
    "def sellect_sort(arr):\n",
    "    for idx,ele in enumerate(arr):\n",
    "        min_idx=min(range(idx,len(arr)),key=arr.__getitem__)\n",
    "        arr[idx],arr[min_idx]=arr[min_idx],ele\n",
    "    return arr\n",
    "sellect_sort(arr)\n"
   ]
  },
  {
   "cell_type": "markdown",
   "metadata": {},
   "source": [
    "## 挿入ソート\n",
    "0,1番要素を比較し入れ替える。  \n",
    "2番目の要素が一番目までの要素より小さい場合、正しい順に並ぶように挿入する。  \n",
    "次は三番目、、、と繰り返す。  \n",
    "左からだんだんと揃っていく。ほとんど揃っている場合は高速  \n",
    "二分探索すると早い。"
   ]
  },
  {
   "cell_type": "code",
   "execution_count": 16,
   "metadata": {},
   "outputs": [
    {
     "data": {
      "text/plain": [
       "array([18, 24, 48, 48, 48, 92])"
      ]
     },
     "execution_count": 16,
     "metadata": {},
     "output_type": "execute_result"
    }
   ],
   "source": [
    "def insert_sort(arr):\n",
    "    for i in range(1,len(arr)):\n",
    "        j= i-1\n",
    "        ele =arr[i]\n",
    "        #現在の値より小さくなるところまで進んでいって\n",
    "        #今までの要素をひとつずつずらす交換する\n",
    "        while arr[j]>ele and j>=0:\n",
    "            arr[j+1]=arr[j]\n",
    "            j-=1\n",
    "        arr[j+1]=ele\n",
    "    return arr\n",
    "\n",
    "insert_sort(arr)"
   ]
  },
  {
   "cell_type": "markdown",
   "metadata": {},
   "source": [
    "### 二分挿入ソート\n",
    "挿入するデータの前は整列が済んでいるという性質を生かして  \n",
    "挿入する箇所を二分探索する"
   ]
  },
  {
   "cell_type": "code",
   "execution_count": null,
   "metadata": {},
   "outputs": [],
   "source": [
    "import sys\n",
    "#再起の上限を増やす\n",
    "sys.setrecursionlimit(10 ** 7)\n",
    "#ソートされていることが前提。\n",
    "def binary_search(arr,low,hig,ele):\n",
    "    #もう添字が同じになった場合\n",
    "    if low==hig:\n",
    "        if arr[low]>ele:\n",
    "            return low\n",
    "        else:\n",
    "            return low+1\n",
    "    #添字が逆転した場合\n",
    "    elif low>high:\n",
    "        return low\n",
    "    \n",
    "    mid =(low+high)//2\n",
    "    #現在値が真ん中より大きい場合\n",
    "    if arr[mid]<ele:\n",
    "        #現在値＋１から最大値までで検索\n",
    "        return binary_search(arr,mid +1,hig,ele)\n",
    "    elif: arr[mid]>ele:\n",
    "        return binary_search(arr,low,mid-1,ele)\n",
    "    else:\n",
    "        return mid\n",
    "\n",
    "def insert_sort(arr):\n",
    "    for i in range(1,len(arr)):\n",
    "        ele=arr[i]\n",
    "        idx=binary_search(arr,0,i-1,ele)\n",
    "        #挿入している\n",
    "        arr[:]=arr[:idx]+[ele]+arr[idx:i]+arr[i+1:]"
   ]
  },
  {
   "cell_type": "markdown",
   "metadata": {},
   "source": [
    "\n",
    "\n",
    "## マージソート\n",
    "分割を繰り返し、その後に順に結合していく。  \n",
    "結合の過程でソートする。  \n",
    "早いけどメモリを食う  "
   ]
  },
  {
   "cell_type": "code",
   "execution_count": 17,
   "metadata": {},
   "outputs": [
    {
     "data": {
      "text/plain": [
       "[18, 24, 48, 48, 48, 92]"
      ]
     },
     "execution_count": 17,
     "metadata": {},
     "output_type": "execute_result"
    }
   ],
   "source": [
    "def merge_sort(arr):\n",
    "    if len(arr)<=1:\n",
    "        return arr\n",
    "    mid = len(arr)//2\n",
    "    #分割する\n",
    "    left=arr[:mid]\n",
    "    right=arr[mid:]\n",
    "\n",
    "    #再起的に分割する\n",
    "    left=merge_sort(left)\n",
    "    right=merge_sort(right)\n",
    "\n",
    "    return merge(left,right)\n",
    "\n",
    "def merge(left,right):\n",
    "    merged=[]\n",
    "    l_i,r_i=0,0\n",
    "    #比較して小さい方の先頭を順番に追加していく\n",
    "    while l_i<len(left) and r_i <len(right):\n",
    "        if left[l_i]<=right[r_i]:\n",
    "            merged.append(left[l_i])\n",
    "            l_i+=1\n",
    "        else:\n",
    "            merged.append(right[r_i])\n",
    "            r_i +=1\n",
    "\n",
    "    #上のWhileが終わった時のあまりを追加する\n",
    "    if l_i<len(left):\n",
    "        merged.extend(left[l_i:])\n",
    "    if r_i <len(right):\n",
    "        merged.extend(right[r_i:])\n",
    "    return merged\n",
    "merge_sort(arr)\n"
   ]
  },
  {
   "cell_type": "markdown",
   "metadata": {},
   "source": [
    "## クイックソート\n",
    "基準値を決めて、そのその基準値から見て大小の2つの配列に分ける。  \n",
    "分けたグループの中で再起的に同じ処理をする  \n",
    "ある程度分割できたら別のアルゴリズムを使うと早い \n",
    "不安定かつ、メモリを多く使うが早い"
   ]
  },
  {
   "cell_type": "code",
   "execution_count": 18,
   "metadata": {},
   "outputs": [
    {
     "data": {
      "text/plain": [
       "[18, 24, 48, 48, 48, 92]"
      ]
     },
     "execution_count": 18,
     "metadata": {},
     "output_type": "execute_result"
    }
   ],
   "source": [
    "def quick_sort(arr):\n",
    "    left=[]\n",
    "    right=[]\n",
    "    if len(arr)<= 1:\n",
    "        return arr\n",
    "    ref=arr[0]\n",
    "    ref_count=0\n",
    "    for ele in arr:\n",
    "        if ele<ref:\n",
    "            left.append(ele)\n",
    "        elif ele>ref:\n",
    "            right.append(ele)\n",
    "        else:\n",
    "            ref_count+=1\n",
    "    #左右に分けてソート\n",
    "    left =  quick_sort(left)\n",
    "    right =quick_sort(right)\n",
    "\n",
    "    #結合。同じ奴はref_countで数を重ねる\n",
    "    return left +[ref]*ref_count +right\n",
    "quick_sort(arr)"
   ]
  },
  {
   "cell_type": "markdown",
   "metadata": {},
   "source": [
    "## カウントソート\n",
    "それぞれの値の個数を数えていく  \n",
    "defaultdictを使うと楽チン"
   ]
  },
  {
   "cell_type": "code",
   "execution_count": 20,
   "metadata": {},
   "outputs": [
    {
     "data": {
      "text/plain": [
       "[18, 24, 48, 48, 48, 92]"
      ]
     },
     "execution_count": 20,
     "metadata": {},
     "output_type": "execute_result"
    }
   ],
   "source": [
    "def count_sort(arr):\n",
    "    max_num=max(arr)\n",
    "    min_num=min(arr)\n",
    "    #要素の数だけ入れ物を用意する\n",
    "    count=[0]*(max_num-min_num+1)\n",
    "    for ele in arr:\n",
    "        count[ele-min_num]+=1\n",
    "        #ele...入れ物の現在の値のidx,cnt...何回繰り返す\n",
    "    return [ele for ele,cnt in enumerate(count,start=min_num) for _ in range(cnt)]\n",
    "count_sort(arr)"
   ]
  },
  {
   "cell_type": "code",
   "execution_count": null,
   "metadata": {},
   "outputs": [],
   "source": []
  },
  {
   "cell_type": "markdown",
   "metadata": {},
   "source": []
  },
  {
   "cell_type": "code",
   "execution_count": null,
   "metadata": {},
   "outputs": [],
   "source": []
  },
  {
   "cell_type": "markdown",
   "metadata": {},
   "source": [
    "## DFS,BFS\n",
    "http://kannokanno.hatenablog.com/entry/2013/06/05/175503\n",
    "https://pyteyon.hatenablog.com/entry/2019/03/01/211133\n",
    "\n",
    "### DFS\n",
    "1. 根ノードrootからスタート\n",
    "1. 末端まで進めるまで進める\n",
    "1. 末端に着いたらひとつ前に戻ってまだ進んでない分岐を進む\n",
    "1. 進んでないところがあればもうひとつ前に戻る\n",
    "\n"
   ]
  },
  {
   "cell_type": "code",
   "execution_count": 27,
   "metadata": {},
   "outputs": [
    {
     "name": "stdout",
     "output_type": "stream",
     "text": [
      "['A', 'B', 'S', 'C', 'D', 'E', 'H', 'G', 'F']\n",
      "['A', 'B', 'S', 'C', 'D', 'E', 'H', 'G', 'F']\n"
     ]
    }
   ],
   "source": [
    "graph1 = {\n",
    "    'A' : ['B','S'],\n",
    "    'B' : ['A'],\n",
    "    'C' : ['D','E','F','S'],\n",
    "    'D' : ['C'],\n",
    "    'E' : ['C','H'],\n",
    "    'F' : ['C','G'],\n",
    "    'G' : ['F','S'],\n",
    "    'H' : ['E','G'],\n",
    "    'S' : ['A','C','G']\n",
    "}\n",
    "#再起あり\n",
    "def dfs(graph,node,visited):\n",
    "    if node not in visited:\n",
    "        visited.append(node)\n",
    "        for n in graph[node]:\n",
    "            dfs(graph,n,visited)\n",
    "    return visited\n",
    "\n",
    "visited=dfs(graph1,'A',[])\n",
    "print(visited)\n",
    "\n",
    "#再起なし,スタックで実装\n",
    "def dfs2(graph,node):\n",
    "    visited=[node]\n",
    "    stack=[node]\n",
    "    while stack:\n",
    "        #スタックから取り出す\n",
    "        node=stack[-1]\n",
    "        if node not in visited:\n",
    "            visited.extend(node)\n",
    "        remove_from_stack=True\n",
    "        for next in graph[node]:\n",
    "            if next not in visited:\n",
    "                stack.extend(next)\n",
    "                remove_from_stack=False\n",
    "                break\n",
    "        if remove_from_stack:\n",
    "            stack.pop()\n",
    "    return visited\n",
    "print (dfs2(graph1, 'A'))"
   ]
  },
  {
   "cell_type": "code",
   "execution_count": null,
   "metadata": {},
   "outputs": [],
   "source": []
  }
 ],
 "metadata": {
  "file_extension": ".py",
  "kernelspec": {
   "display_name": "Python 3",
   "language": "python",
   "name": "python3"
  },
  "language_info": {
   "codemirror_mode": {
    "name": "ipython",
    "version": 3
   },
   "file_extension": ".py",
   "mimetype": "text/x-python",
   "name": "python",
   "nbconvert_exporter": "python",
   "pygments_lexer": "ipython3",
   "version": "3.7.4"
  },
  "mimetype": "text/x-python",
  "name": "python",
  "npconvert_exporter": "python",
  "pygments_lexer": "ipython3",
  "version": 3
 },
 "nbformat": 4,
 "nbformat_minor": 4
}