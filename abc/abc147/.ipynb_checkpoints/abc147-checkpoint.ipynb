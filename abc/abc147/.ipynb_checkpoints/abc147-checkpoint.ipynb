{
 "cells": [
  {
   "cell_type": "code",
   "execution_count": 3,
   "metadata": {},
   "outputs": [
    {
     "name": "stdin",
     "output_type": "stream",
     "text": [
      " 5 10 7\n"
     ]
    },
    {
     "name": "stdout",
     "output_type": "stream",
     "text": [
      "bust\n"
     ]
    }
   ],
   "source": [
    "#A\n",
    "a,b,c=map(int, input().split())\n",
    "ans=a+b+c\n",
    "if ans>21:\n",
    "    print('bust')\n",
    "else:\n",
    "    print('win')"
   ]
  },
  {
   "cell_type": "code",
   "execution_count": 16,
   "metadata": {},
   "outputs": [
    {
     "name": "stdin",
     "output_type": "stream",
     "text": [
      " vveee\n"
     ]
    },
    {
     "name": "stdout",
     "output_type": "stream",
     "text": [
      "v e\n",
      "v e\n",
      "2\n"
     ]
    }
   ],
   "source": [
    "#b\n",
    "s=str(input())\n",
    "ans=0\n",
    "for i in range(len(s)//2):\n",
    "    if s[i]!=s[-i-1]:\n",
    "        ans+=1\n",
    "print(ans)\n",
    "    "
   ]
  },
  {
   "cell_type": "markdown",
   "metadata": {},
   "source": [
    "##C\n",
    "問題  \n",
    "https://atcoder.jp/contests/abc147/tasks/abc147_c\n",
    "\n",
    "解説  \n",
    "https://img.atcoder.jp/abc147/editorial.pdf\n",
    "\n",
    "ビット演算  \n",
    "https://www.javadrive.jp/python/num/index4.html\n",
    "```\n",
    "N=6\n",
    "for i in range(1 << N):\n",
    "```\n",
    "\n",
    "解法  \n",
    "0以上2**n以下の整数jについて、人kが正直者であることと、\n",
    "jを２進数表記した際にk-i桁目が1であることが同値とすると簡単。"
   ]
  },
  {
   "cell_type": "code",
   "execution_count": 10,
   "metadata": {},
   "outputs": [
    {
     "data": {
      "text/plain": [
       "'r'"
      ]
     },
     "execution_count": 10,
     "metadata": {},
     "output_type": "execute_result"
    }
   ],
   "source": [
    "#c\n",
    "#testimonies...証言\n",
    "def honest_or_unkind_2(N: int, testimonies: dict)->int:\n",
    "    ans = 0\n",
    "    for i in range(1 << N):\n",
    "        honest_num = 0\n",
    "        for j in range(N):\n",
    "            if i & (1 << j) == 0:\n",
    "                continue\n",
    "            honest_num += 1\n",
    " \n",
    "            # 正直者の場合はその人の証言が全て正しいことをチェックする\n",
    "            for k, is_honest in testimonies[j]:\n",
    "                if bool(i & (1 << k)) != is_honest:\n",
    "                    # 証言の矛盾\n",
    "                    break\n",
    "            else:\n",
    "                # 証言に矛盾なし。次の人をチェック\n",
    "                continue\n",
    "            # 証言に矛盾があった\n",
    "            break\n",
    "        else:\n",
    "            # 正直者全員の証言に矛盾なし。この組み合わせは成り立つ。\n",
    "            ans = max(ans, honest_num)\n",
    "        # i の表す正直者と嘘つきの組み合わせは証言に矛盾がある\n",
    " \n",
    "    return ans\n",
    " \n",
    " \n",
    "if __name__ == \"__main__\":\n",
    "    N = int(input())\n",
    "    testimonies = {}\n",
    " \n",
    "    for i in range(N):\n",
    "        A = int(input())\n",
    "        testimonies[i] = [None] * A\n",
    "        for a in range(A):\n",
    "            x, y = map(int, input().split())\n",
    "            testimonies[i][a] = (x-1, bool(y))\n",
    " \n",
    "    ans = honest_or_unkind_2(N, testimonies)\n",
    "    print(ans)"
   ]
  },
  {
   "cell_type": "code",
   "execution_count": 3,
   "metadata": {},
   "outputs": [
    {
     "name": "stdin",
     "output_type": "stream",
     "text": [
      " 3\n",
      " 1\n",
      " 2 1 1 1 1 1 2 0\n"
     ]
    },
    {
     "ename": "ValueError",
     "evalue": "too many values to unpack (expected 2)",
     "output_type": "error",
     "traceback": [
      "\u001b[0;31m---------------------------------------------------------------------------\u001b[0m",
      "\u001b[0;31mValueError\u001b[0m                                Traceback (most recent call last)",
      "\u001b[0;32m<ipython-input-3-4971c17c0274>\u001b[0m in \u001b[0;36m<module>\u001b[0;34m\u001b[0m\n\u001b[1;32m      6\u001b[0m     \u001b[0mA\u001b[0m \u001b[0;34m=\u001b[0m \u001b[0mint\u001b[0m\u001b[0;34m(\u001b[0m\u001b[0minput\u001b[0m\u001b[0;34m(\u001b[0m\u001b[0;34m)\u001b[0m\u001b[0;34m)\u001b[0m\u001b[0;34m\u001b[0m\u001b[0;34m\u001b[0m\u001b[0m\n\u001b[1;32m      7\u001b[0m     \u001b[0;32mfor\u001b[0m \u001b[0m_\u001b[0m \u001b[0;32min\u001b[0m \u001b[0mrange\u001b[0m\u001b[0;34m(\u001b[0m\u001b[0mA\u001b[0m\u001b[0;34m)\u001b[0m\u001b[0;34m:\u001b[0m\u001b[0;34m\u001b[0m\u001b[0;34m\u001b[0m\u001b[0m\n\u001b[0;32m----> 8\u001b[0;31m         \u001b[0mx\u001b[0m\u001b[0;34m,\u001b[0m \u001b[0my\u001b[0m \u001b[0;34m=\u001b[0m \u001b[0mlist\u001b[0m\u001b[0;34m(\u001b[0m\u001b[0mmap\u001b[0m\u001b[0;34m(\u001b[0m\u001b[0mint\u001b[0m\u001b[0;34m,\u001b[0m \u001b[0minput\u001b[0m\u001b[0;34m(\u001b[0m\u001b[0;34m)\u001b[0m\u001b[0;34m.\u001b[0m\u001b[0msplit\u001b[0m\u001b[0;34m(\u001b[0m\u001b[0;34m)\u001b[0m\u001b[0;34m)\u001b[0m\u001b[0;34m)\u001b[0m\u001b[0;34m\u001b[0m\u001b[0;34m\u001b[0m\u001b[0m\n\u001b[0m\u001b[1;32m      9\u001b[0m         \u001b[0mE\u001b[0m\u001b[0;34m.\u001b[0m\u001b[0mappend\u001b[0m\u001b[0;34m(\u001b[0m\u001b[0;34m(\u001b[0m\u001b[0mn\u001b[0m\u001b[0;34m,\u001b[0m \u001b[0mx\u001b[0m\u001b[0;34m-\u001b[0m\u001b[0;36m1\u001b[0m\u001b[0;34m,\u001b[0m \u001b[0my\u001b[0m\u001b[0;34m)\u001b[0m\u001b[0;34m)\u001b[0m\u001b[0;34m\u001b[0m\u001b[0;34m\u001b[0m\u001b[0m\n\u001b[1;32m     10\u001b[0m \u001b[0;34m\u001b[0m\u001b[0m\n",
      "\u001b[0;31mValueError\u001b[0m: too many values to unpack (expected 2)"
     ]
    }
   ],
   "source": [
    "N = int(input())\n",
    " \n",
    "E = []\n",
    " \n",
    "for n in range(N):\n",
    "    A = int(input())\n",
    "    for _ in range(A):\n",
    "        x, y = list(map(int, input().split()))\n",
    "        E.append((n, x-1, y))\n",
    " \n",
    "ans = 0\n",
    "for k in range((1<<N)-1, -1, -1):\n",
    "    l = [(k>>i)&1 for i in range(N)]\n",
    "    OK = True\n",
    "    for e0, e1, e2 in E:\n",
    "        if (l[e0]==1 and l[e1]!=e2):\n",
    "            OK = False\n",
    "            break\n",
    "    if OK: ans = max(ans, sum(l))\n",
    " \n",
    "print(ans)"
   ]
  },
  {
   "cell_type": "code",
   "execution_count": 1,
   "metadata": {},
   "outputs": [
    {
     "data": {
      "application/vnd.jupyter.widget-view+json": {
       "model_id": "f70f4e3b15ae475e888bd6943a7d5110",
       "version_major": 2,
       "version_minor": 0
      },
      "text/plain": [
       "Textarea(value='')"
      ]
     },
     "metadata": {},
     "output_type": "display_data"
    }
   ],
   "source": [
    "from ipywidgets import Textarea\n",
    "\n",
    "def get_input(change):\n",
    "    global Input\n",
    "    Input=change[\"new\"]\n",
    "\n",
    "textarea = Textarea()\n",
    "textarea.observe(get_input, names='value')\n",
    "display(textarea)\n",
    "\n",
    "\n"
   ]
  },
  {
   "cell_type": "code",
   "execution_count": 7,
   "metadata": {},
   "outputs": [
    {
     "data": {
      "text/plain": [
       "'3\\n1\\n2 1\\n1\\n1 1\\n1\\n2 0'"
      ]
     },
     "execution_count": 7,
     "metadata": {},
     "output_type": "execute_result"
    }
   ],
   "source": [
    "Input"
   ]
  },
  {
   "cell_type": "code",
   "execution_count": 13,
   "metadata": {},
   "outputs": [
    {
     "name": "stdout",
     "output_type": "stream",
     "text": [
      "3 ['1', '2 1', '1', '1 1', '1', '2 0']\n"
     ]
    }
   ],
   "source": [
    "n,*a=Input.split('\\n')\n",
    "for n in range(N):\n",
    "    A=a[0]\n",
    "print(n,a)"
   ]
  },
  {
   "cell_type": "code",
   "execution_count": 6,
   "metadata": {},
   "outputs": [
    {
     "data": {
      "text/plain": [
       "'\\n'"
      ]
     },
     "execution_count": 6,
     "metadata": {},
     "output_type": "execute_result"
    }
   ],
   "source": [
    "inp='''\n",
    "'''\n"
   ]
  },
  {
   "cell_type": "code",
   "execution_count": null,
   "metadata": {},
   "outputs": [],
   "source": []
  }
 ],
 "metadata": {
  "kernelspec": {
   "display_name": "Python 3",
   "language": "python",
   "name": "python3"
  },
  "language_info": {
   "codemirror_mode": {
    "name": "ipython",
    "version": 3
   },
   "file_extension": ".py",
   "mimetype": "text/x-python",
   "name": "python",
   "nbconvert_exporter": "python",
   "pygments_lexer": "ipython3",
   "version": "3.7.4"
  }
 },
 "nbformat": 4,
 "nbformat_minor": 4
}
